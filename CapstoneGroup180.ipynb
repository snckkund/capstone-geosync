{
 "cells": [
  {
   "cell_type": "code",
   "execution_count": 1,
   "metadata": {},
   "outputs": [],
   "source": [
    "import ee\n",
    "import geemap\n",
    "import ipywidgets as widgets\n",
    "from IPython.display import display\n",
    "import datetime\n",
    "import json\n",
    "\n",
    "# Authenticate and initialize Google Earth Engine API\n",
    "ee.Authenticate()\n",
    "ee.Initialize(project='ee-geosynta')"
   ]
  },
  {
   "cell_type": "code",
   "execution_count": 2,
   "metadata": {},
   "outputs": [
    {
     "data": {
      "text/html": [
       "\n",
       "            <style>\n",
       "                .geemap-dark {\n",
       "                    --jp-widgets-color: white;\n",
       "                    --jp-widgets-label-color: white;\n",
       "                    --jp-ui-font-color1: white;\n",
       "                    --jp-layout-color2: #454545;\n",
       "                    background-color: #383838;\n",
       "                }\n",
       "\n",
       "                .geemap-dark .jupyter-button {\n",
       "                    --jp-layout-color3: #383838;\n",
       "                }\n",
       "\n",
       "                .geemap-colab {\n",
       "                    background-color: var(--colab-primary-surface-color, white);\n",
       "                }\n",
       "\n",
       "                .geemap-colab .jupyter-button {\n",
       "                    --jp-layout-color3: var(--colab-primary-surface-color, white);\n",
       "                }\n",
       "            </style>\n",
       "            "
      ],
      "text/plain": [
       "<IPython.core.display.HTML object>"
      ]
     },
     "metadata": {},
     "output_type": "display_data"
    },
    {
     "data": {
      "application/vnd.jupyter.widget-view+json": {
       "model_id": "e619b2a3f4aa4909ae7e73e6c2dc52fb",
       "version_major": 2,
       "version_minor": 0
      },
      "text/plain": [
       "HBox(children=(IntSlider(value=5, description='Zoom', max=15, min=1), Button(description='Reset', layout=Layou…"
      ]
     },
     "metadata": {},
     "output_type": "display_data"
    },
    {
     "data": {
      "application/vnd.jupyter.widget-view+json": {
       "model_id": "6d5aeb6a00a945eeba54d548692dd8b5",
       "version_major": 2,
       "version_minor": 0
      },
      "text/plain": [
       "IntRangeSlider(value=(2017, 2017), description='Year Range', max=2024, min=2014)"
      ]
     },
     "metadata": {},
     "output_type": "display_data"
    },
    {
     "data": {
      "application/vnd.jupyter.widget-view+json": {
       "model_id": "27fd62f1bf9d4e0eb9bea27b50ed17d0",
       "version_major": 2,
       "version_minor": 0
      },
      "text/plain": [
       "Map(center=[22.377, 79.956], controls=(WidgetControl(options=['position', 'transparent_bg'], widget=SearchData…"
      ]
     },
     "metadata": {},
     "output_type": "display_data"
    },
    {
     "name": "stderr",
     "output_type": "stream",
     "text": [
      "No such comm: 009bb25432f14720829cf473c86997cb\n",
      "No such comm: f3a8d82db8ee4e0cb183708b09711a73\n",
      "No such comm: 366ab793384f444d94ad7abf6b3cac82\n",
      "No such comm: f3a8d82db8ee4e0cb183708b09711a73\n",
      "No such comm: 0ae537b6677248e9a6af691333b0a8bb\n",
      "No such comm: 4b864e4abbef428e9dfb36bf3b206c3c\n"
     ]
    }
   ],
   "source": [
    "# Initialize Earth Engine\n",
    "ee.Initialize()\n",
    "\n",
    "# Define the region of interest (ROI)\n",
    "IND = ee.Geometry.Polygon(\n",
    "         [[65.05105785032507, 37.597177512338746],\n",
    "          [65.05105785032507, 5.507083786578366],\n",
    "          [97.30691722532507, 5.507083786578366],\n",
    "          [97.30691722532507, 37.597177512338746]])\n",
    "\n",
    "# Define visualization parameters\n",
    "ls_true_color_vis = {\n",
    "    'min': 0.0,\n",
    "    'max': 0.4,\n",
    "}\n",
    "ls_ndvi_vis = {\n",
    "    'min': -0.1,\n",
    "    'max': 0.9,\n",
    "    'palette': ['blue', 'white', 'green']\n",
    "}\n",
    "md_true_color_vis = {\n",
    "    'min': -100.0,\n",
    "    'max': 8000.0,\n",
    "}\n",
    "md_ndvi_vis = {\n",
    "    'min': -0.1,\n",
    "    'max': 0.9,\n",
    "    'palette': ['blue', 'white', 'green']\n",
    "}\n",
    "\n",
    "# Create the map\n",
    "m = geemap.Map()\n",
    "m.set_center(79.956, 22.377, 5)\n",
    "\n",
    "# Create widgets\n",
    "zoom_slider = widgets.IntSlider(min=1, max=15, value=m.zoom, description='Zoom')\n",
    "year_range = widgets.IntRangeSlider(value=[2017, 2017], \n",
    "                                    min=2014, \n",
    "                                    max=datetime.datetime.now().year, \n",
    "                                    description='Year Range')\n",
    "\n",
    "reset_button = widgets.Button(description='Reset', \n",
    "                              style=widgets.ButtonStyle(button_color='#e32d2d'),\n",
    "                              layout=widgets.Layout(width='100px'))\n",
    "\n",
    "# Define function to update map based on year range\n",
    "def update_map(change):\n",
    "    # Get selected year range\n",
    "    start_year, end_year = year_range.value\n",
    "    \n",
    "    # Filter LANDSAT dataset based on year range\n",
    "    LANDSAT = ee.ImageCollection('LANDSAT/LC08/C02/T1_TOA')\\\n",
    "                .filterDate(f'{start_year}-01-01', f'{end_year}-12-31')\\\n",
    "                .filterBounds(IND)\n",
    "    ls_true_color_432 = LANDSAT.select(['B4', 'B3', 'B2']).median()\n",
    "    ls_ndvi = LANDSAT.map(lambda img: img.normalizedDifference(['B5', 'B4']).rename('NDVI')).median()\n",
    "    \n",
    "    # Filter MODIS dataset based on year range\n",
    "    MODIS = ee.ImageCollection('MODIS/061/MOD09GA')\\\n",
    "                  .filterDate(f'{start_year}-01-01', f'{end_year}-12-31')\\\n",
    "                  .filterBounds(IND)\n",
    "    md_true_color_143 = MODIS.select(['sur_refl_b01', 'sur_refl_b04', 'sur_refl_b03']).median()\n",
    "    md_ndvi = MODIS.map(lambda img: img.normalizedDifference(['sur_refl_b02', 'sur_refl_b01']).rename('NDVI')).median()\n",
    "    \n",
    "    # Check if layers exist before removing them\n",
    "    if 'LANDSAT True Color (432)' in m.ee_layers:\n",
    "        m.remove_layer('LANDSAT True Color (432)')\n",
    "    if 'LANDSAT NDVI' in m.ee_layers:\n",
    "        m.remove_layer('LANDSAT NDVI')\n",
    "    if 'MODIS True Color (143)' in m.ee_layers:\n",
    "        m.remove_layer('MODIS True Color (143)')\n",
    "    if 'MODIS NDVI' in m.ee_layers:\n",
    "        m.remove_layer('MODIS NDVI')\n",
    "    \n",
    "    # Add updated layers\n",
    "    m.add_layer(ls_true_color_432, ls_true_color_vis, 'LANDSAT True Color (432)')\n",
    "    m.add_layer(ls_ndvi, ls_ndvi_vis, 'LANDSAT NDVI')\n",
    "    m.add_layer(md_true_color_143, md_true_color_vis, 'MODIS True Color (143)')\n",
    "    m.add_layer(md_ndvi, md_ndvi_vis, 'MODIS NDVI')\n",
    "\n",
    "    # Update the map display\n",
    "    m\n",
    "\n",
    "# Attach update function to year_range slider\n",
    "year_range.observe(update_map, names='value')\n",
    "\n",
    "# Define reset functionality\n",
    "def reset_widgets(b):\n",
    "    m.set_center(79.956, 22.377, 5)  # Reset map center\n",
    "    zoom_slider.value = 5  # Reset zoom to 5\n",
    "    year_range.value = [2017, 2017]  # Reset year range to 2017\n",
    "    update_map(None)  # Update map with default year range\n",
    "\n",
    "reset_button.on_click(reset_widgets)\n",
    "\n",
    "# Update zoom slider\n",
    "def update_zoom(change):\n",
    "    m.set_zoom(change.new)\n",
    "\n",
    "zoom_slider.observe(update_zoom, names='value')\n",
    "\n",
    "# Display widgets and map\n",
    "display(widgets.HBox([zoom_slider, reset_button], \n",
    "                     layout=widgets.Layout(justify_content='space-between', width='100%')))\n",
    "display(year_range)\n",
    "display(m)\n",
    "\n",
    "# Initial map update\n",
    "update_map(None)\n"
   ]
  },
  {
   "cell_type": "code",
   "execution_count": null,
   "metadata": {},
   "outputs": [],
   "source": []
  }
 ],
 "metadata": {
  "kernelspec": {
   "display_name": ".venv",
   "language": "python",
   "name": "python3"
  },
  "language_info": {
   "codemirror_mode": {
    "name": "ipython",
    "version": 3
   },
   "file_extension": ".py",
   "mimetype": "text/x-python",
   "name": "python",
   "nbconvert_exporter": "python",
   "pygments_lexer": "ipython3",
   "version": "3.12.4"
  }
 },
 "nbformat": 4,
 "nbformat_minor": 2
}
