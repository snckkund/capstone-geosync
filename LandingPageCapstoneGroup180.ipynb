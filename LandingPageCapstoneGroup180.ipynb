{
  "cells": [
    {
      "cell_type": "markdown",
      "metadata": {
        "id": "Gzt1IeJWnlcF"
      },
      "source": [
        "# Capstone Project (CSE4095)\n",
        "\n",
        "**`Group-180`**\n",
        "\n",
        "## # <u> About Us </u>\n",
        "\n",
        "<br>\n",
        "\n",
        "|  <img src=\"\" alt=\"Author 1\" width=\"100\" height=\"120\">  | <img src=\"assets/profile photos/atin.jpg\" alt=\"Author 2\" width=\"100\" height=\"120\">  | <img src=\"assets/profile photos/sheenu.jpg\" alt=\"Author 3\" width=\"110\" height=\"120\">  | <img src=\"assets/profile photos/chandu.jpg\" alt=\"Author 4\" width=\"100\" height=\"120\">  |  <img src=\"assets/profile photos/aryan.jpg\" alt=\"Author 5\" width=\"95\" height=\"120\"> |\n",
        "| :------------: | :------------: | :------------: | :------------: | :------------: |\n",
        "|  Sushant | Atin | Shivangi  | Chandrakant  | Aryan |\n",
        "| 21BCE10735  | 21BCE10777  | 21BCE10951  | 21BCE10974  | 21BCE10975  |\n",
        "| Role  | Role  | Role  | Role  | Role  |\n",
        "\n",
        "\n",
        "\n"
      ]
    },
    {
      "cell_type": "markdown",
      "metadata": {
        "id": "1k8-pEEm1KOB"
      },
      "source": [
        "<br>\n",
        "\n",
        "Click ⬇ to open Project in Colab <br><br>\n",
        "<a href=\"https://colab.research.google.com/drive/1gJClAmKPhMf7pNaDvdJAQWSu1V1VCv1_?usp=sharing\" target=\"_parent\"><img src=\"https://colab.research.google.com/assets/colab-badge.svg\" alt=\"Open In Colab\"/></a>"
      ]
    },
    {
      "cell_type": "markdown",
      "metadata": {
        "id": "5ud9BJcIqJh5"
      },
      "source": [
        "# # Description\n",
        "\n",
        "* **Project Area:**\n",
        "Geospatial Analysis and Machine Learning Model for Sustainability and Climatic Changes.\n",
        "\n",
        "* **Proposed Project Title:**\n",
        "Geospatial Intelligence and Machine Learning Model for Sustainable Climate Solutions.\n",
        "\n",
        "* **Short Description:** \n",
        "The objective of this project aims to harness the power of geospatial analysis and machine learning to address sustainability and climate change challenges. Utilizing Google Earth Engine (GEE) for comprehensive geospatial data analysis and integrating advanced ML models, the project seeks to provide valuable insights into climatic patterns, predict weather anomalies, and suggest actionable solutions for sustainable development. The focus will be on enhancing the accuracy of climate forecasting and developing strategies to mitigate the adverse effects of climate change.\n",
        "\n"
      ]
    },
    {
      "cell_type": "markdown",
      "metadata": {
        "id": "tLn0yqQMp9nV"
      },
      "source": [
        "# # Research work ([🔗](./docs/CapstoneReport.docx))\n",
        "\n",
        "\n"
      ]
    },
    {
      "cell_type": "markdown",
      "metadata": {
        "id": "80YizAiNXOfP"
      },
      "source": [
        "# # Capstone Report ([🔗](./docs/CapstoneResearchPaper.docx))\n",
        "\n",
        "\n"
      ]
    },
    {
      "cell_type": "markdown",
      "metadata": {},
      "source": []
    }
  ],
  "metadata": {
    "colab": {
      "provenance": []
    },
    "kernelspec": {
      "display_name": "Python 3",
      "name": "python3"
    },
    "language_info": {
      "codemirror_mode": {
        "name": "ipython",
        "version": 3
      },
      "file_extension": ".py",
      "mimetype": "text/x-python",
      "name": "python",
      "nbconvert_exporter": "python",
      "pygments_lexer": "ipython3",
      "version": "3.12.1"
    }
  },
  "nbformat": 4,
  "nbformat_minor": 0
}
